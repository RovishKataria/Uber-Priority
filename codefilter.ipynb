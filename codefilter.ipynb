{
 "cells": [
  {
   "cell_type": "code",
   "execution_count": 1,
   "metadata": {},
   "outputs": [
    {
     "ename": "ModuleNotFoundError",
     "evalue": "No module named 'pandas'",
     "output_type": "error",
     "traceback": [
      "\u001b[1;31m---------------------------------------------------------------------------\u001b[0m",
      "\u001b[1;31mModuleNotFoundError\u001b[0m                       Traceback (most recent call last)",
      "Cell \u001b[1;32mIn[1], line 1\u001b[0m\n\u001b[1;32m----> 1\u001b[0m \u001b[38;5;28;01mimport\u001b[39;00m\u001b[38;5;250m \u001b[39m\u001b[38;5;21;01mpandas\u001b[39;00m\u001b[38;5;250m \u001b[39m\u001b[38;5;28;01mas\u001b[39;00m\u001b[38;5;250m \u001b[39m\u001b[38;5;21;01mpd\u001b[39;00m\n",
      "\u001b[1;31mModuleNotFoundError\u001b[0m: No module named 'pandas'"
     ]
    }
   ],
   "source": [
    "import pandas as pd"
   ]
  },
  {
   "cell_type": "code",
   "execution_count": null,
   "metadata": {},
   "outputs": [],
   "source": [
    "# Load the dataset\n",
    "file_path = \"uber_reviews_without_reviewid.csv\"  # Replace with your actual file path\n",
    "df = pd.read_csv(file_path)\n",
    "\n",
    "df.head(100)"
   ]
  },
  {
   "cell_type": "code",
   "execution_count": null,
   "metadata": {},
   "outputs": [
    {
     "name": "stdout",
     "output_type": "stream",
     "text": [
      "         userName  score                                            content  \\\n",
      "113      User_113      5  Hannah was great. She went above and beyond to...   \n",
      "169      User_169      1  Please do not provide any coupons to the custo...   \n",
      "198      User_198      5  easiest and quickest way to get from Orlando A...   \n",
      "419      User_419      1  Just got in a 5 car accident on the highway wi...   \n",
      "637      User_637      5                           it's great for emergency   \n",
      "...           ...    ...                                                ...   \n",
      "11521  User_11521      3  Uber is good for a ride. Don't plan on having ...   \n",
      "11533  User_11533      1  Greed taken to the extreme. 0 stars. One 20-mi...   \n",
      "11621  User_11621      5  Love this feature. Works great when you are in...   \n",
      "11759  User_11759      1  Shocking service. Waited inside the hospital a...   \n",
      "11878  User_11878      1  Worst algorithm in some European cities. Why a...   \n",
      "\n",
      "                        at  \n",
      "113    2024-12-18 12:05:23  \n",
      "169    2024-12-18 08:31:29  \n",
      "198    2024-12-18 06:13:27  \n",
      "419    2024-12-17 18:43:36  \n",
      "637    2024-12-17 06:36:33  \n",
      "...                    ...  \n",
      "11521  2024-11-25 20:47:52  \n",
      "11533  2024-11-25 20:29:45  \n",
      "11621  2024-11-25 16:46:47  \n",
      "11759  2024-11-25 10:32:07  \n",
      "11878  2024-11-25 04:32:41  \n",
      "\n",
      "[118 rows x 4 columns]\n",
      "Filtered reviews saved to filtered_reviews.xlsx\n"
     ]
    }
   ],
   "source": [
    "\n",
    "# Define location-related keywords\n",
    "location_keywords = [\n",
    "    \"hospital\", \"airport\", \"railway\", \"railway station\", \n",
    "    \"train\", \"train station\", \"bus station\", \"emergency\"\n",
    "]\n",
    "\n",
    "# Filter reviews mentioning any of these keywords\n",
    "filtered_reviews = df[\n",
    "    df[\"content\"].str.contains(r'\\b(?:' + '|'.join(location_keywords) + r')\\b', case=False, na=False)\n",
    "]\n",
    "\n",
    "# Display the selected columns\n",
    "print(filtered_reviews[[\"userName\", \"score\", \"content\", \"at\"]])\n",
    "\n",
    "# Save to a new CSV file\n",
    "# Save to a new Excel file\n",
    "output_file = \"filtered_reviews.xlsx\"\n",
    "filtered_reviews.to_excel(output_file, index=False, engine='openpyxl')\n",
    "\n",
    "print(f\"Filtered reviews saved to {output_file}\")\n"
   ]
  }
 ],
 "metadata": {
  "kernelspec": {
   "display_name": ".venv",
   "language": "python",
   "name": "python3"
  },
  "language_info": {
   "codemirror_mode": {
    "name": "ipython",
    "version": 3
   },
   "file_extension": ".py",
   "mimetype": "text/x-python",
   "name": "python",
   "nbconvert_exporter": "python",
   "pygments_lexer": "ipython3",
   "version": "3.10.11"
  }
 },
 "nbformat": 4,
 "nbformat_minor": 2
}
